{
 "cells": [
  {
   "cell_type": "markdown",
   "id": "0ad2ce43",
   "metadata": {},
   "source": [
    "# 1. Download docker\n",
    "\n",
    "https://docs.docker.com/get-started/\n",
    "\n",
    "2GB is the default memory setting on a fresh installation of Docker for Mac. We [MRIQC developers] recommend increasing the available memory for Docker containers\n",
    "\n",
    "Docker Preferences > Resources > Memory\n",
    "\n",
    "\n",
    "The storage location of Docker images and containers\n",
    "A Docker container consists of network settings, volumes, and images. The location of Docker files depends on your operating system. Here is an overview for the most used operating systems:\n",
    "\n",
    "Ubuntu: /var/lib/docker/  \n",
    "Fedora: /var/lib/docker/  \n",
    "Debian: /var/lib/docker/  \n",
    "Windows: C:\\ProgramData\\DockerDesktop  \n",
    "MacOS: ~/Library/Containers/com.docker.docker/Data/vms/0/  \n",
    "\n",
    "In macOS and Windows, Docker runs Linux containers in a virtual environment. Therefore, there are some additional things to know.\n",
    "\n",
    "### Docker for Mac\n",
    "Docker is not natively compatible with macOS, so Hyperkit is used to run a virtual image. Its virtual image data is located in:  \n",
    "\n",
    "~/Library/Containers/com.docker.docker/Data/vms/0\n",
    "\n",
    "Within the virtual image, the path is the default Docker path /var/lib/docker.\n",
    "\n",
    "\n",
    "### Options usually used when running docker\n",
    "\n",
    "```\n",
    "docker run --help\n",
    " -i, --interactive                    Keep STDIN open even if not attached\n",
    " -t, --tty                            Allocate a pseudo-TTY\n",
    " -v, --volume list                    Bind mount a volume\n",
    "     --rm                             Automatically remove the container when it exits\n",
    "```\n",
    "\n",
    "The `-it` runs Docker interactively (so you get a pseudo-TTY with STDIN). The `--rm` causes Docker to automatically remove the container when it exits.\n",
    "\n",
    "The image being used to create the container is generally specified as `<name>:<tag>` such as ruby:latest. If the specified image is not available locally, Docker will attempt to retrieve it from Docker Hub (or any connected Docker registry).\n",
    "\n",
    "If you need to find Docker images available locally, you can run: `docker images` or `docker image ls`."
   ]
  },
  {
   "cell_type": "code",
   "execution_count": null,
   "id": "db27dcd3",
   "metadata": {},
   "outputs": [],
   "source": [
    "%%bash\n",
    "\n",
    "# interact with files in docker\n",
    "\n",
    "docker ps # get docker container id\n",
    "docker exec -it d5b73d678398 <command>\n",
    "\n",
    "docker exec -it \\\n",
    "  -v ~/Downloads/17-1290_TMII_XNAT_S12035_ME-ICA-no-gs:/data d5b73d678398 \\\n",
    "  which 3dFWHMx\n",
    "  \n",
    "docker run -ti -d nipreps/fmriprep:20.2.3 \\\n",
    "    -v ~/Downloads/17-1290_TMII_XNAT_S12035_ME-ICA-no-gs:/data \\\n",
    "    3dFWHMx -automask  -input data/17-1290_TMII_XNAT_S12035_TMII_XNAT_E24721_scans_21_T1c_medn_nat.nii.gz\n",
    "\n"
   ]
  },
  {
   "cell_type": "markdown",
   "id": "2a3cd56f",
   "metadata": {},
   "source": [
    "# 2. Download data from XNAT\n"
   ]
  },
  {
   "cell_type": "code",
   "execution_count": 1,
   "id": "deadfce0",
   "metadata": {
    "scrolled": true
   },
   "outputs": [
    {
     "name": "stderr",
     "output_type": "stream",
     "text": [
      "[WARNING] Verify is disabled, this will NOT verify the certificate of SSL connections!\n",
      "[WARNING] Warnings about invalid certificates will be HIDDEN to avoid spam, but this\n",
      "[WARNING] means that your connection can be potentially unsafe!\n"
     ]
    },
    {
     "name": "stdout",
     "output_type": "stream",
     "text": [
      "Please enter the password for user 'tongt03':········\n"
     ]
    }
   ],
   "source": [
    "# conda install -c conda-forge xnat\n",
    "# TURNED THIS XNAT DOWNLOADER INTO A PYTHON SCRIPT\n",
    "# /Users/TienTong/Documents/dcm2bids/xnat_download.py\n",
    "\n",
    "import xnat\n",
    "import pandas as pd\n",
    "\n",
    "session = xnat.connect(server='https://tmii02.mssm.edu/xnat', user='tongt03',  verify=False)\n",
    "project = session.projects[\"17-1290\"]\n",
    "subjects = project.subjects\n",
    "\n",
    "# subject = subjects[0]\n",
    "# subject.download_dir('/Users/TienTong/Documents/dcm2bids/DICOM')\n",
    "\n",
    "subjects.keys()\n",
    "\n",
    "keys=[]\n",
    "values=[]\n",
    "for key in subjects.keys():\n",
    "    keys.append(key)\n",
    "for value in subjects.values():\n",
    "    values.append(value)\n",
    "    "
   ]
  },
  {
   "cell_type": "code",
   "execution_count": 2,
   "id": "f874f1ae",
   "metadata": {},
   "outputs": [],
   "source": [
    "df = pd.DataFrame(list(zip(keys, values)), columns =['keys', 'values'])\n",
    "df['subject_id'] = df['values']\n",
    "for row in range(df.shape[0]):\n",
    "    df['subject_id'][row] = 'sub-' + str(df['values'][row]).split(\" \")[1].split(\"_\")[-1]\n",
    "    \n",
    "# df.at[df.subject_id == 'sub-P20013', 'subject_id'] = 'sub-P21002'\n",
    "   \n",
    "df.to_csv(\"/Users/TienTong/Documents/dcm2bids/xnat_allsubjects.csv\", header=False)\n"
   ]
  },
  {
   "cell_type": "markdown",
   "id": "4fddd089",
   "metadata": {},
   "source": [
    "# 3. Organize the data in BIDS using dcm2bids\n",
    "\n",
    "BIDS SPECS:\n",
    "https://bids-specification.readthedocs.io/en/stable/04-modality-specific-files/01-magnetic-resonance-imaging-data.html#two-phase-images-and-two-magnitude-images\n",
    "\n",
    "Why is BIDS so important: https://andysbrainbook.readthedocs.io/en/latest/OpenScience/OS/BIDS_Overview.html\n",
    "\n",
    "How to convert data to BIDS format: dcm2bids github https://github.com/UNFmontreal/Dcm2Bids\n"
   ]
  },
  {
   "cell_type": "code",
   "execution_count": null,
   "id": "560796f4",
   "metadata": {},
   "outputs": [],
   "source": [
    "%%bash\n",
    "# conda install -c conda-forge dcm2niix\n",
    "# conda install -c conda-forge dcm2bids\n",
    "\n",
    "## TEST, SKIP THIS run using dcm2niix only\n",
    "# dcm2niix \\\n",
    "#    -z y \\\n",
    "#    -f %p_%t_%s \\\n",
    "#    -o /Users/TienTong/Documents/heudiconv/BIDS \\\n",
    "#    /Users/TienTong/Documents/heudiconv/DICOM\n",
    "\n",
    "# first run `dcm2bids_helper -d /Users/TienTong/Documents/dcm2bids/DICOM/P21013`\n",
    "# then, modify the dcm2bids_config.json based on the output of the helper\n",
    "# Example in:\n",
    "# /Users/TienTong/tmp_dcm2bids/helper\n",
    "\n",
    "# COMMENT THIS OUT BECAUSE I HAVE TURNED THIS BIDS CONVERSION INTO A BASH SCRIPT\n",
    "# /Users/TienTong/Documents/dcm2bids/bids_conversion.sh"
   ]
  },
  {
   "cell_type": "code",
   "execution_count": 71,
   "id": "5af4c66a",
   "metadata": {},
   "outputs": [
    {
     "name": "stdout",
     "output_type": "stream",
     "text": [
      "\u001b[01;34m/Users/TienTong/Documents/dcm2bids/BIDS/sub-P18001\u001b[00m\r\n",
      "├── \u001b[01;34manat\u001b[00m\r\n",
      "│   ├── sub-P18001_T1w.json\r\n",
      "│   └── \u001b[01;31msub-P18001_T1w.nii.gz\u001b[00m\r\n",
      "├── \u001b[01;34mdwi\u001b[00m\r\n",
      "│   ├── sub-P18001_dir-LR_dwi.bval\r\n",
      "│   ├── sub-P18001_dir-LR_dwi.bvec\r\n",
      "│   ├── sub-P18001_dir-LR_dwi.json\r\n",
      "│   ├── \u001b[01;31msub-P18001_dir-LR_dwi.nii.gz\u001b[00m\r\n",
      "│   ├── sub-P18001_dir-LR_sbref.json\r\n",
      "│   ├── \u001b[01;31msub-P18001_dir-LR_sbref.nii.gz\u001b[00m\r\n",
      "│   ├── sub-P18001_dir-RL_dwi.bval\r\n",
      "│   ├── sub-P18001_dir-RL_dwi.bvec\r\n",
      "│   ├── sub-P18001_dir-RL_dwi.json\r\n",
      "│   ├── \u001b[01;31msub-P18001_dir-RL_dwi.nii.gz\u001b[00m\r\n",
      "│   ├── sub-P18001_dir-RL_sbref.json\r\n",
      "│   └── \u001b[01;31msub-P18001_dir-RL_sbref.nii.gz\u001b[00m\r\n",
      "├── \u001b[01;34mfmap\u001b[00m\r\n",
      "│   ├── sub-P18001_dir-AP_epi.json\r\n",
      "│   ├── \u001b[01;31msub-P18001_dir-AP_epi.nii.gz\u001b[00m\r\n",
      "│   ├── sub-P18001_dir-PA_epi.json\r\n",
      "│   └── \u001b[01;31msub-P18001_dir-PA_epi.nii.gz\u001b[00m\r\n",
      "└── \u001b[01;34mfunc\u001b[00m\r\n",
      "    ├── sub-P18001_task-rest_run-01_bold.json\r\n",
      "    ├── \u001b[01;31msub-P18001_task-rest_run-01_bold.nii.gz\u001b[00m\r\n",
      "    ├── sub-P18001_task-rest_run-01_echo-01_bold.json\r\n",
      "    ├── \u001b[01;31msub-P18001_task-rest_run-01_echo-01_bold.nii.gz\u001b[00m\r\n",
      "    ├── sub-P18001_task-rest_run-01_echo-01_sbref.json\r\n",
      "    ├── \u001b[01;31msub-P18001_task-rest_run-01_echo-01_sbref.nii.gz\u001b[00m\r\n",
      "    ├── sub-P18001_task-rest_run-01_echo-02_bold.json\r\n",
      "    ├── \u001b[01;31msub-P18001_task-rest_run-01_echo-02_bold.nii.gz\u001b[00m\r\n",
      "    ├── sub-P18001_task-rest_run-01_echo-02_sbref.json\r\n",
      "    ├── \u001b[01;31msub-P18001_task-rest_run-01_echo-02_sbref.nii.gz\u001b[00m\r\n",
      "    ├── sub-P18001_task-rest_run-01_echo-03_bold.json\r\n",
      "    ├── \u001b[01;31msub-P18001_task-rest_run-01_echo-03_bold.nii.gz\u001b[00m\r\n",
      "    ├── sub-P18001_task-rest_run-01_echo-03_sbref.json\r\n",
      "    ├── \u001b[01;31msub-P18001_task-rest_run-01_echo-03_sbref.nii.gz\u001b[00m\r\n",
      "    ├── sub-P18001_task-rest_run-02_bold.json\r\n",
      "    ├── \u001b[01;31msub-P18001_task-rest_run-02_bold.nii.gz\u001b[00m\r\n",
      "    ├── sub-P18001_task-rest_run-02_echo-01_bold.json\r\n",
      "    ├── \u001b[01;31msub-P18001_task-rest_run-02_echo-01_bold.nii.gz\u001b[00m\r\n",
      "    ├── sub-P18001_task-rest_run-02_echo-01_sbref.json\r\n",
      "    ├── \u001b[01;31msub-P18001_task-rest_run-02_echo-01_sbref.nii.gz\u001b[00m\r\n",
      "    ├── sub-P18001_task-rest_run-02_echo-02_bold.json\r\n",
      "    ├── \u001b[01;31msub-P18001_task-rest_run-02_echo-02_bold.nii.gz\u001b[00m\r\n",
      "    ├── sub-P18001_task-rest_run-02_echo-02_sbref.json\r\n",
      "    ├── \u001b[01;31msub-P18001_task-rest_run-02_echo-02_sbref.nii.gz\u001b[00m\r\n",
      "    ├── sub-P18001_task-rest_run-02_echo-03_bold.json\r\n",
      "    ├── \u001b[01;31msub-P18001_task-rest_run-02_echo-03_bold.nii.gz\u001b[00m\r\n",
      "    ├── sub-P18001_task-rest_run-02_echo-03_sbref.json\r\n",
      "    ├── \u001b[01;31msub-P18001_task-rest_run-02_echo-03_sbref.nii.gz\u001b[00m\r\n",
      "    ├── sub-P18001_task-socialnav_bold.json\r\n",
      "    ├── \u001b[01;31msub-P18001_task-socialnav_bold.nii.gz\u001b[00m\r\n",
      "    ├── sub-P18001_task-socialnav_sbref.json\r\n",
      "    ├── \u001b[01;31msub-P18001_task-socialnav_sbref.nii.gz\u001b[00m\r\n",
      "    ├── sub-P18001_task-whyhow_bold.json\r\n",
      "    ├── \u001b[01;31msub-P18001_task-whyhow_bold.nii.gz\u001b[00m\r\n",
      "    ├── sub-P18001_task-whyhow_echo-01_bold.json\r\n",
      "    ├── \u001b[01;31msub-P18001_task-whyhow_echo-01_bold.nii.gz\u001b[00m\r\n",
      "    ├── sub-P18001_task-whyhow_echo-01_sbref.json\r\n",
      "    ├── \u001b[01;31msub-P18001_task-whyhow_echo-01_sbref.nii.gz\u001b[00m\r\n",
      "    ├── sub-P18001_task-whyhow_echo-02_bold.json\r\n",
      "    ├── \u001b[01;31msub-P18001_task-whyhow_echo-02_bold.nii.gz\u001b[00m\r\n",
      "    ├── sub-P18001_task-whyhow_echo-02_sbref.json\r\n",
      "    ├── \u001b[01;31msub-P18001_task-whyhow_echo-02_sbref.nii.gz\u001b[00m\r\n",
      "    ├── sub-P18001_task-whyhow_echo-03_bold.json\r\n",
      "    ├── \u001b[01;31msub-P18001_task-whyhow_echo-03_bold.nii.gz\u001b[00m\r\n",
      "    ├── sub-P18001_task-whyhow_echo-03_sbref.json\r\n",
      "    └── \u001b[01;31msub-P18001_task-whyhow_echo-03_sbref.nii.gz\u001b[00m\r\n",
      "\r\n",
      "4 directories, 64 files\r\n"
     ]
    }
   ],
   "source": [
    "!tree -L 4 /Users/TienTong/Documents/dcm2bids/BIDS/sub-P18001\n",
    "# tutorial: https://github.com/bids-standard/pybids/blob/master/examples/pybids_tutorial.ipynb"
   ]
  },
  {
   "cell_type": "markdown",
   "id": "3f2f6c06",
   "metadata": {},
   "source": [
    "one full rest scan took ~ 10 minutes"
   ]
  },
  {
   "cell_type": "code",
   "execution_count": 29,
   "id": "989d0ffc",
   "metadata": {},
   "outputs": [
    {
     "name": "stdout",
     "output_type": "stream",
     "text": [
      "<BIDSJSONFile filename='/Users/TienTong/Documents/dcm2bids/BIDS/sub-P18001/func/sub-P18001_task-rest_run-01_echo-01_sbref.json'>\n",
      "{'datatype': 'func', 'echo': '01', 'extension': 'json', 'run': 1, 'subject': 'P18001', 'suffix': 'sbref', 'task': 'rest'}\n"
     ]
    },
    {
     "name": "stderr",
     "output_type": "stream",
     "text": [
      "/Users/TienTong/opt/anaconda3/lib/python3.8/site-packages/bids/layout/validation.py:37: UserWarning: The absolute_paths argument will be removed from PyBIDS in 0.14. You can easily access the relative path of BIDSFile objects via the .relpath attribute (instead of .path). Switching to this pattern is strongly encouraged, as the current implementation of relative path handling is known to produce query failures in certain edge cases.\n",
      "  warnings.warn(\"The absolute_paths argument will be removed from PyBIDS \"\n"
     ]
    },
    {
     "data": {
      "text/plain": [
       "['sub-P18001/func/sub-P18001_task-rest_run-01_echo-01_bold.json',\n",
       " 'sub-P18001/func/sub-P18001_task-rest_run-01_echo-01_sbref.json',\n",
       " 'sub-P18001/func/sub-P18001_task-rest_run-01_echo-02_bold.json',\n",
       " 'sub-P18001/func/sub-P18001_task-rest_run-01_echo-02_sbref.json',\n",
       " 'sub-P18001/func/sub-P18001_task-rest_run-01_echo-03_bold.json',\n",
       " 'sub-P18001/func/sub-P18001_task-rest_run-01_echo-03_sbref.json',\n",
       " 'sub-P18001/func/sub-P18001_task-rest_run-02_echo-01_bold.json',\n",
       " 'sub-P18001/func/sub-P18001_task-rest_run-02_echo-01_sbref.json',\n",
       " 'sub-P18001/func/sub-P18001_task-rest_run-02_echo-02_bold.json',\n",
       " 'sub-P18001/func/sub-P18001_task-rest_run-02_echo-02_sbref.json',\n",
       " 'sub-P18001/func/sub-P18001_task-rest_run-02_echo-03_bold.json',\n",
       " 'sub-P18001/func/sub-P18001_task-rest_run-02_echo-03_sbref.json',\n",
       " 'sub-P18001/func/sub-P18001_task-socialnav_bold.json',\n",
       " 'sub-P18001/func/sub-P18001_task-socialnav_sbref.json',\n",
       " 'sub-P18001/func/sub-P18001_task-whyhow_bold.json',\n",
       " 'sub-P18001/func/sub-P18001_task-whyhow_echo-01_bold.json',\n",
       " 'sub-P18001/func/sub-P18001_task-whyhow_echo-01_sbref.json',\n",
       " 'sub-P18001/func/sub-P18001_task-whyhow_echo-02_bold.json',\n",
       " 'sub-P18001/func/sub-P18001_task-whyhow_echo-02_sbref.json',\n",
       " 'sub-P18001/func/sub-P18001_task-whyhow_echo-03_bold.json',\n",
       " 'sub-P18001/func/sub-P18001_task-whyhow_echo-03_sbref.json']"
      ]
     },
     "execution_count": 29,
     "metadata": {},
     "output_type": "execute_result"
    }
   ],
   "source": [
    "    \n",
    "#     layout.get_tasks()\n",
    "# bf_filename = layout.get(subject=layout.get_subjects()[0], \n",
    "#            extension='.json', datatype='fmap', return_type='filename')[0]\n",
    "test = layout.get(subject=layout.get_subjects()[0], \n",
    "               extension='.json', datatype='func')[1]\n",
    "\n",
    "# Print it\n",
    "print(test)\n",
    "\n",
    "# Print all the entities associated with this file, and their values\n",
    "print(test.get_entities())\n",
    "layout.get(subject=layout.get_subjects()[0], \n",
    "               extension='.json', datatype='func', absolute_paths=False, return_type='filename')"
   ]
  },
  {
   "cell_type": "markdown",
   "id": "4e4569f8",
   "metadata": {},
   "source": [
    "# 4. Install MRIQC\n",
    "\n",
    "https://mriqc.readthedocs.io/en/stable/docker.html#docker\n",
    "\n",
    "```\n",
    "docker run -it poldracklab/mriqc:latest --version # don't use MRIQC v0.16.1, some commands were deprecated\n",
    "docker run -it poldracklab/mriqc:0.15.1 --version\n",
    "docker run -it poldracklab/mriqc:0.14.2 --version\n",
    "\n",
    "# options usually used when running docker\n",
    "# docker run --help\n",
    "#  -i, --interactive                    Keep STDIN open even if not attached\n",
    "#  -t, --tty                            Allocate a pseudo-TTY\n",
    "#  -v, --volume list                    Bind mount a volume\n",
    "#      --rm                             Automatically remove the container when it exits\n",
    "\n",
    "```"
   ]
  },
  {
   "cell_type": "code",
   "execution_count": null,
   "id": "94ae69a3",
   "metadata": {},
   "outputs": [],
   "source": [
    "%%bash\n",
    "\n",
    "# docker exec -it c31e8ab5c3af pip install pydeface # DID NOT WORK\n",
    "docker pull poldracklab/pydeface\n",
    "\n",
    "files=`ls /Users/TienTong/Documents/dcm2bids/BIDS/deface/sub-P19027/*/*.nii.gz`\n",
    "\n",
    "for f in files ; do\n",
    "  pydeface $f \n",
    "done"
   ]
  },
  {
   "cell_type": "code",
   "execution_count": null,
   "id": "bfd5b396",
   "metadata": {},
   "outputs": [],
   "source": [
    "%%bash\n",
    "\n",
    "# run MRIQC\n",
    "\n",
    "# docker run -it --rm -v /Users/TienTong/Documents/dcm2bids/BIDS:/data:ro -v /Users/TienTong/Documents/mriqc:/out \\\n",
    "#             --read-only --tmpfs /run --tmpfs /tmp \\\n",
    "#             poldracklab/mriqc:0.14.2 \\\n",
    "#                 /data \\\n",
    "#                 /out \\\n",
    "#                 participant \\\n",
    "#                 --participant_label P21013 \\\n",
    "#                 --no-sub \\\n",
    "#                 -w /out --nprocs 4 \\\n",
    "#                 --verbose-reports > /Users/TienTong/Documents/mriqc/mriqc_log.txt\n",
    "\n",
    "docker run -it --rm -v /Users/TienTong/Documents/dcm2bids/BIDS:/data:ro -v /Users/TienTong/Documents/mriqc_15:/out \\\n",
    "            --read-only --tmpfs /run --tmpfs /tmp \\\n",
    "            poldracklab/mriqc:0.15.1 \\\n",
    "                /data \\\n",
    "                /out \\\n",
    "                participant \\\n",
    "                --participant_label P19027 \\\n",
    "                --no-sub \\\n",
    "                -w /out --nprocs 4 \\\n",
    "                --verbose-reports > /Users/TienTong/Documents/mriqc_15/mriqc15_P19027_log.txt\n"
   ]
  },
  {
   "cell_type": "markdown",
   "id": "b94c085a",
   "metadata": {},
   "source": [
    "# fMRIPrep"
   ]
  },
  {
   "cell_type": "code",
   "execution_count": null,
   "id": "c31698b2",
   "metadata": {},
   "outputs": [],
   "source": [
    "%%bash\n",
    "\n",
    "# Installation instructions here: https://www.nipreps.org/apps/docker/\n",
    "\n",
    "# docker pull nipreps/fmriprep:20.2.3\n",
    "# pip install --user --upgrade fmriprep-docker\n",
    "\n",
    "# run\n",
    "docker run -ti --rm \\\n",
    "    -v $HOME/Documents/dcm2bids/BIDS/sub-P18004:/data:ro \\\n",
    "    -v $HOME/Documents/fmriprep:/out \\\n",
    "    -v $HOME/Documents/fmriprep:/work \\\n",
    "    -v $HOME/Documents/Licenses/freesurfer_license.txt:/opt/freesurfer/license.txt \\\n",
    "    nipreps/fmriprep:20.2.3 \\\n",
    "        /data \\\n",
    "        /out \\\n",
    "        participant \\\n",
    "        -w /work \\\n",
    "        -t rest \\\n",
    "        --output-spaces MNI152NLin6Asym:res-2 \\\n",
    "        --nprocs 4 \\\n",
    "        --skip_bids_validation \\\n",
    "        --use-aroma > ~/Documents/fmriprep/sub-P18004.log\n",
    "        \n",
    "        # run time: 9h 26m 10s"
   ]
  },
  {
   "cell_type": "code",
   "execution_count": null,
   "id": "69c9653b",
   "metadata": {},
   "outputs": [],
   "source": [
    "%%bash\n",
    "\n",
    "docker run -ti --rm \\\n",
    "    -v $HOME/Documents/rest/sub-P18005:/data:ro \\\n",
    "    -v $HOME/Documents/fmriprep:/out \\\n",
    "    -v $HOME/Documents/fmriprep:/work \\\n",
    "    -v $HOME/Documents/Licenses/freesurfer_license.txt:/opt/freesurfer/license.txt \\\n",
    "    nipreps/fmriprep:20.2.3 \\\n",
    "        /data \\\n",
    "        /out \\\n",
    "        participant \\\n",
    "        -w /work \\\n",
    "        -t rest \\\n",
    "        --output-spaces func \\\n",
    "        --nprocs 4 \\\n",
    "        --skip_bids_validation \\\n",
    "        --ignore slicetiming \\\n",
    "        --fs-no-reconall \\\n",
    "        --no-submm-recon \\\n",
    "        --use-aroma > ~/Documents/fmriprep/sub-P18005.log\n"
   ]
  }
 ],
 "metadata": {
  "kernelspec": {
   "display_name": "Python 3",
   "language": "python",
   "name": "python3"
  },
  "language_info": {
   "codemirror_mode": {
    "name": "ipython",
    "version": 3
   },
   "file_extension": ".py",
   "mimetype": "text/x-python",
   "name": "python",
   "nbconvert_exporter": "python",
   "pygments_lexer": "ipython3",
   "version": "3.8.10"
  }
 },
 "nbformat": 4,
 "nbformat_minor": 5
}
